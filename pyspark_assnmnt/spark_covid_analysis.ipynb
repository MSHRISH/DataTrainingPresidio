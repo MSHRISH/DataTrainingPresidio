{
 "cells": [
  {
   "cell_type": "code",
   "execution_count": 1,
   "id": "e3be7dc4",
   "metadata": {},
   "outputs": [],
   "source": [
    "\n",
    "from pyspark.sql import SparkSession\n",
    "from pyspark.sql.functions import col, lower, max, min, count, expr, month, date_format, lit\n",
    "\n",
    "# Create a Spark session\n",
    "spark = SparkSession.builder.master(\"local[*]\").appName(\"Covid Data Analysis\").getOrCreate()\n"
   ]
  },
  {
   "cell_type": "code",
   "execution_count": 2,
   "id": "38dad616",
   "metadata": {},
   "outputs": [],
   "source": [
    "\n",
    "# Load the CSV file into a DataFrame\n",
    "file_path = 'complete.csv'\n",
    "df = spark.read.csv(file_path, header=True, inferSchema=True)\n"
   ]
  },
  {
   "cell_type": "code",
   "execution_count": 7,
   "id": "2226c990",
   "metadata": {},
   "outputs": [
    {
     "name": "stdout",
     "output_type": "stream",
     "text": [
      "+----------+------------------+--------+---------+---------------------+-----+-------------------------+---------+----------+-------------+\n",
      "|      Date|Name of State / UT|Latitude|Longitude|Total Confirmed cases|Death|Cured/Discharged/Migrated|New cases|New deaths|New recovered|\n",
      "+----------+------------------+--------+---------+---------------------+-----+-------------------------+---------+----------+-------------+\n",
      "|2020-01-30|            kerala| 10.8505|  76.2711|                  1.0|    0|                      0.0|        0|         0|            0|\n",
      "|2020-01-31|            kerala| 10.8505|  76.2711|                  1.0|    0|                      0.0|        0|         0|            0|\n",
      "|2020-02-01|            kerala| 10.8505|  76.2711|                  2.0|    0|                      0.0|        1|         0|            0|\n",
      "|2020-02-02|            kerala| 10.8505|  76.2711|                  3.0|    0|                      0.0|        1|         0|            0|\n",
      "|2020-02-03|            kerala| 10.8505|  76.2711|                  3.0|    0|                      0.0|        0|         0|            0|\n",
      "+----------+------------------+--------+---------+---------------------+-----+-------------------------+---------+----------+-------------+\n",
      "only showing top 5 rows\n",
      "\n"
     ]
    }
   ],
   "source": [
    "\n",
    "# Convert all state names to lowercase\n",
    "df_lowercase = df.withColumn(\"Name of State / UT\", lower(col(\"Name of State / UT\")))\n",
    "df_lowercase.show(5)\n"
   ]
  },
  {
   "cell_type": "code",
   "execution_count": 9,
   "id": "901a8173",
   "metadata": {},
   "outputs": [
    {
     "name": "stdout",
     "output_type": "stream",
     "text": [
      "+----------+---------+\n",
      "|      Date|max_cases|\n",
      "+----------+---------+\n",
      "|2020-08-06| 468265.0|\n",
      "+----------+---------+\n",
      "\n"
     ]
    }
   ],
   "source": [
    "\n",
    "# Day with the greatest number of covid cases\n",
    "day_greatest_cases = df_lowercase.groupBy(\"Date\").agg(max(\"Total Confirmed cases\").alias(\"max_cases\")).orderBy(col(\"max_cases\").desc()).limit(1)\n",
    "day_greatest_cases.show()\n"
   ]
  },
  {
   "cell_type": "code",
   "execution_count": 10,
   "id": "f8f0d332",
   "metadata": {},
   "outputs": [
    {
     "name": "stdout",
     "output_type": "stream",
     "text": [
      "+------------------+---------+\n",
      "|Name of State / UT|max_cases|\n",
      "+------------------+---------+\n",
      "|       maharashtra| 468265.0|\n",
      "|        tamil nadu| 273460.0|\n",
      "+------------------+---------+\n",
      "\n"
     ]
    }
   ],
   "source": [
    "\n",
    "# State with the second-largest number of covid cases\n",
    "state_second_largest = df_lowercase.groupBy(\"Name of State / UT\").agg(max(\"Total Confirmed cases\").alias(\"max_cases\")).orderBy(col(\"max_cases\").desc()).limit(2)\n",
    "state_second_largest.show()\n"
   ]
  },
  {
   "cell_type": "code",
   "execution_count": 11,
   "id": "b9cf84a2",
   "metadata": {},
   "outputs": [],
   "source": [
    "states_of_india = [\n",
    "    \"Andhra Pradesh\",\n",
    "    \"Arunachal Pradesh\",\n",
    "    \"Assam\",\n",
    "    \"Bihar\",\n",
    "    \"Chhattisgarh\",\n",
    "    \"Goa\",\n",
    "    \"Gujarat\",\n",
    "    \"Haryana\",\n",
    "    \"Himachal Pradesh\",\n",
    "    \"Jharkhand\",\n",
    "    \"Karnataka\",\n",
    "    \"Kerala\",\n",
    "    \"Madhya Pradesh\",\n",
    "    \"Maharashtra\",\n",
    "    \"Manipur\",\n",
    "    \"Meghalaya\",\n",
    "    \"Mizoram\",\n",
    "    \"Nagaland\",\n",
    "    \"Odisha\",\n",
    "    \"Punjab\",\n",
    "    \"Rajasthan\",\n",
    "    \"Sikkim\",\n",
    "    \"Tamil Nadu\",\n",
    "    \"Telangana\",\n",
    "    \"Tripura\",\n",
    "    \"Uttar Pradesh\",\n",
    "    \"Uttarakhand\",\n",
    "    \"West Bengal\"\n",
    "]\n"
   ]
  },
  {
   "cell_type": "code",
   "execution_count": 15,
   "id": "fe7e8d7b",
   "metadata": {},
   "outputs": [],
   "source": [
    "union_territories_of_india = [\n",
    "    \"Andaman and Nicobar Islands\",\n",
    "    \"Chandigarh\",\n",
    "    \"Dadra and Nagar Haveli and Daman and Diu\",\n",
    "    \"Lakshadweep\",\n",
    "    \"Delhi\",\n",
    "    \"Puducherry\",\n",
    "    \"Ladakh\",\n",
    "    \"Jammu and Kashmir\"\n",
    "]\n"
   ]
  },
  {
   "cell_type": "code",
   "execution_count": 19,
   "id": "645bd028",
   "metadata": {},
   "outputs": [
    {
     "name": "stdout",
     "output_type": "stream",
     "text": [
      "+--------------------+----------+\n",
      "|  Name of State / UT|min_deaths|\n",
      "+--------------------+----------+\n",
      "|Andaman and Nicob...|         0|\n",
      "|          Chandigarh|         0|\n",
      "|Dadra and Nagar H...|         0|\n",
      "|               Delhi|         0|\n",
      "|   Jammu and Kashmir|         0|\n",
      "|              Ladakh|         0|\n",
      "|          Puducherry|         0|\n",
      "+--------------------+----------+\n",
      "\n"
     ]
    }
   ],
   "source": [
    "\n",
    "# Union Territory with the least number of deaths\n",
    "\n",
    "union_territory_least_deaths = df.filter(col(\"Name of State / UT\").isin(union_territories_of_india)).groupBy(\"Name of State / UT\").agg(min(\"Death\").alias(\"min_deaths\"))    .orderBy(col(\"min_deaths\").asc())\n",
    "union_territory_least_deaths.show()\n"
   ]
  },
  {
   "cell_type": "code",
   "execution_count": 20,
   "id": "233f54fd",
   "metadata": {},
   "outputs": [
    {
     "name": "stdout",
     "output_type": "stream",
     "text": [
      "+------------------+---------------+\n",
      "|Name of State / UT|min_death_ratio|\n",
      "+------------------+---------------+\n",
      "|             delhi|            0.0|\n",
      "+------------------+---------------+\n",
      "\n"
     ]
    }
   ],
   "source": [
    "\n",
    "# State with the lowest Death to Total Confirmed cases ratio\n",
    "state_lowest_death_ratio = df_lowercase.withColumn(\"death_ratio\", col(\"Death\") / col(\"Total Confirmed cases\"))    .groupBy(\"Name of State / UT\").agg(min(\"death_ratio\").alias(\"min_death_ratio\"))    .orderBy(col(\"min_death_ratio\").asc()).limit(1)\n",
    "state_lowest_death_ratio.show()\n",
    " "
   ]
  },
  {
   "cell_type": "code",
   "execution_count": 35,
   "id": "b3a204d1",
   "metadata": {},
   "outputs": [
    {
     "name": "stdout",
     "output_type": "stream",
     "text": [
      "+-----+-------------+\n",
      "|month|max_recovered|\n",
      "+-----+-------------+\n",
      "|    7|        13401|\n",
      "+-----+-------------+\n",
      "\n"
     ]
    },
    {
     "data": {
      "text/plain": [
       "'July'"
      ]
     },
     "execution_count": 35,
     "metadata": {},
     "output_type": "execute_result"
    }
   ],
   "source": [
    "\n",
    "# Find the month with the most recent (newer) recovered cases and display as month name\n",
    "month_newer_recovered = df_lowercase.groupBy(month(\"Date\").alias(\"month\")).agg(max(\"New recovered\").alias(\"max_recovered\")).orderBy(col(\"max_recovered\").desc()).limit(1)\n",
    "\n",
    "month_newer_recovered.show()\n",
    "months = [\n",
    "        \"January\", \"February\", \"March\", \"April\", \"May\", \"June\",\n",
    "        \"July\", \"August\", \"September\", \"October\", \"November\", \"December\"\n",
    "    ]\n",
    "months[month_newer_recovered.select(\"*\").collect()[0][0]-1]"
   ]
  },
  {
   "cell_type": "code",
   "execution_count": null,
   "id": "80797ba6",
   "metadata": {},
   "outputs": [],
   "source": [
    "\n",
    "# Stopping the Spark session\n",
    "spark.stop()\n"
   ]
  }
 ],
 "metadata": {
  "kernelspec": {
   "display_name": "Python 3",
   "language": "python",
   "name": "python3"
  },
  "language_info": {
   "codemirror_mode": {
    "name": "ipython",
    "version": 3
   },
   "file_extension": ".py",
   "mimetype": "text/x-python",
   "name": "python",
   "nbconvert_exporter": "python",
   "pygments_lexer": "ipython3",
   "version": "3.12.5"
  }
 },
 "nbformat": 4,
 "nbformat_minor": 5
}
